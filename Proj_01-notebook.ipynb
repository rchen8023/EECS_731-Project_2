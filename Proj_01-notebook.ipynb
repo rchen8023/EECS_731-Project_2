{
 "cells": [
  {
   "cell_type": "code",
   "execution_count": 1,
   "metadata": {},
   "outputs": [
    {
     "data": {
      "text/html": [
       "<div>\n",
       "<style scoped>\n",
       "    .dataframe tbody tr th:only-of-type {\n",
       "        vertical-align: middle;\n",
       "    }\n",
       "\n",
       "    .dataframe tbody tr th {\n",
       "        vertical-align: top;\n",
       "    }\n",
       "\n",
       "    .dataframe thead th {\n",
       "        text-align: right;\n",
       "    }\n",
       "</style>\n",
       "<table border=\"1\" class=\"dataframe\">\n",
       "  <thead>\n",
       "    <tr style=\"text-align: right;\">\n",
       "      <th></th>\n",
       "      <th>Dataline</th>\n",
       "      <th>Play</th>\n",
       "      <th>PlayerLinenumber</th>\n",
       "      <th>ActSceneLine</th>\n",
       "      <th>Player</th>\n",
       "      <th>PlayerLine</th>\n",
       "    </tr>\n",
       "  </thead>\n",
       "  <tbody>\n",
       "    <tr>\n",
       "      <td>0</td>\n",
       "      <td>1</td>\n",
       "      <td>Henry IV</td>\n",
       "      <td>NaN</td>\n",
       "      <td>NaN</td>\n",
       "      <td>NaN</td>\n",
       "      <td>ACT I</td>\n",
       "    </tr>\n",
       "    <tr>\n",
       "      <td>1</td>\n",
       "      <td>2</td>\n",
       "      <td>Henry IV</td>\n",
       "      <td>NaN</td>\n",
       "      <td>NaN</td>\n",
       "      <td>NaN</td>\n",
       "      <td>SCENE I. London. The palace.</td>\n",
       "    </tr>\n",
       "    <tr>\n",
       "      <td>2</td>\n",
       "      <td>3</td>\n",
       "      <td>Henry IV</td>\n",
       "      <td>NaN</td>\n",
       "      <td>NaN</td>\n",
       "      <td>NaN</td>\n",
       "      <td>Enter KING HENRY, LORD JOHN OF LANCASTER, the ...</td>\n",
       "    </tr>\n",
       "    <tr>\n",
       "      <td>3</td>\n",
       "      <td>4</td>\n",
       "      <td>Henry IV</td>\n",
       "      <td>1.0</td>\n",
       "      <td>1.1.1</td>\n",
       "      <td>KING HENRY IV</td>\n",
       "      <td>So shaken as we are, so wan with care,</td>\n",
       "    </tr>\n",
       "    <tr>\n",
       "      <td>4</td>\n",
       "      <td>5</td>\n",
       "      <td>Henry IV</td>\n",
       "      <td>1.0</td>\n",
       "      <td>1.1.2</td>\n",
       "      <td>KING HENRY IV</td>\n",
       "      <td>Find we a time for frighted peace to pant,</td>\n",
       "    </tr>\n",
       "    <tr>\n",
       "      <td>...</td>\n",
       "      <td>...</td>\n",
       "      <td>...</td>\n",
       "      <td>...</td>\n",
       "      <td>...</td>\n",
       "      <td>...</td>\n",
       "      <td>...</td>\n",
       "    </tr>\n",
       "    <tr>\n",
       "      <td>111391</td>\n",
       "      <td>111392</td>\n",
       "      <td>A Winters Tale</td>\n",
       "      <td>38.0</td>\n",
       "      <td>5.3.180</td>\n",
       "      <td>LEONTES</td>\n",
       "      <td>Lead us from hence, where we may leisurely</td>\n",
       "    </tr>\n",
       "    <tr>\n",
       "      <td>111392</td>\n",
       "      <td>111393</td>\n",
       "      <td>A Winters Tale</td>\n",
       "      <td>38.0</td>\n",
       "      <td>5.3.181</td>\n",
       "      <td>LEONTES</td>\n",
       "      <td>Each one demand an answer to his part</td>\n",
       "    </tr>\n",
       "    <tr>\n",
       "      <td>111393</td>\n",
       "      <td>111394</td>\n",
       "      <td>A Winters Tale</td>\n",
       "      <td>38.0</td>\n",
       "      <td>5.3.182</td>\n",
       "      <td>LEONTES</td>\n",
       "      <td>Perform'd in this wide gap of time since first</td>\n",
       "    </tr>\n",
       "    <tr>\n",
       "      <td>111394</td>\n",
       "      <td>111395</td>\n",
       "      <td>A Winters Tale</td>\n",
       "      <td>38.0</td>\n",
       "      <td>5.3.183</td>\n",
       "      <td>LEONTES</td>\n",
       "      <td>We were dissever'd: hastily lead away.</td>\n",
       "    </tr>\n",
       "    <tr>\n",
       "      <td>111395</td>\n",
       "      <td>111396</td>\n",
       "      <td>A Winters Tale</td>\n",
       "      <td>38.0</td>\n",
       "      <td>NaN</td>\n",
       "      <td>LEONTES</td>\n",
       "      <td>Exeunt</td>\n",
       "    </tr>\n",
       "  </tbody>\n",
       "</table>\n",
       "<p>111396 rows × 6 columns</p>\n",
       "</div>"
      ],
      "text/plain": [
       "        Dataline            Play  PlayerLinenumber ActSceneLine  \\\n",
       "0              1        Henry IV               NaN          NaN   \n",
       "1              2        Henry IV               NaN          NaN   \n",
       "2              3        Henry IV               NaN          NaN   \n",
       "3              4        Henry IV               1.0        1.1.1   \n",
       "4              5        Henry IV               1.0        1.1.2   \n",
       "...          ...             ...               ...          ...   \n",
       "111391    111392  A Winters Tale              38.0      5.3.180   \n",
       "111392    111393  A Winters Tale              38.0      5.3.181   \n",
       "111393    111394  A Winters Tale              38.0      5.3.182   \n",
       "111394    111395  A Winters Tale              38.0      5.3.183   \n",
       "111395    111396  A Winters Tale              38.0          NaN   \n",
       "\n",
       "               Player                                         PlayerLine  \n",
       "0                 NaN                                              ACT I  \n",
       "1                 NaN                       SCENE I. London. The palace.  \n",
       "2                 NaN  Enter KING HENRY, LORD JOHN OF LANCASTER, the ...  \n",
       "3       KING HENRY IV             So shaken as we are, so wan with care,  \n",
       "4       KING HENRY IV         Find we a time for frighted peace to pant,  \n",
       "...               ...                                                ...  \n",
       "111391        LEONTES         Lead us from hence, where we may leisurely  \n",
       "111392        LEONTES              Each one demand an answer to his part  \n",
       "111393        LEONTES     Perform'd in this wide gap of time since first  \n",
       "111394        LEONTES             We were dissever'd: hastily lead away.  \n",
       "111395        LEONTES                                             Exeunt  \n",
       "\n",
       "[111396 rows x 6 columns]"
      ]
     },
     "execution_count": 1,
     "metadata": {},
     "output_type": "execute_result"
    }
   ],
   "source": [
    "import pandas as pd \n",
    "\n",
    "data = pd.read_csv('Data/Shakespeare_data.csv')\n",
    "data"
   ]
  },
  {
   "cell_type": "markdown",
   "metadata": {},
   "source": [
    "First I changed all 'Play' and 'Player' from name to numbers, so that each play and player will have different number"
   ]
  },
  {
   "cell_type": "code",
   "execution_count": 2,
   "metadata": {},
   "outputs": [
    {
     "data": {
      "text/plain": [
       "0               Henry IV\n",
       "1               Henry IV\n",
       "2               Henry IV\n",
       "3               Henry IV\n",
       "4               Henry IV\n",
       "               ...      \n",
       "111391    A Winters Tale\n",
       "111392    A Winters Tale\n",
       "111393    A Winters Tale\n",
       "111394    A Winters Tale\n",
       "111395    A Winters Tale\n",
       "Name: Play, Length: 111396, dtype: category\n",
       "Categories (36, object): [A Comedy of Errors, A Midsummer nights dream, A Winters Tale, Alls well that ends well, ..., Troilus and Cressida, Twelfth Night, Two Gentlemen of Verona, macbeth]"
      ]
     },
     "execution_count": 2,
     "metadata": {},
     "output_type": "execute_result"
    }
   ],
   "source": [
    "# change play and player from string to numbers\n",
    "data['Play'] = data['Play'].astype('category') # check how many different play name. \n",
    "data['Play']"
   ]
  },
  {
   "cell_type": "code",
   "execution_count": 3,
   "metadata": {},
   "outputs": [],
   "source": [
    "data['Play'] = data['Play'].cat.rename_categories(list(range(1,37))).astype('int')"
   ]
  },
  {
   "cell_type": "code",
   "execution_count": 4,
   "metadata": {},
   "outputs": [
    {
     "data": {
      "text/plain": [
       "0                   NaN\n",
       "1                   NaN\n",
       "2                   NaN\n",
       "3         KING HENRY IV\n",
       "4         KING HENRY IV\n",
       "              ...      \n",
       "111391          LEONTES\n",
       "111392          LEONTES\n",
       "111393          LEONTES\n",
       "111394          LEONTES\n",
       "111395          LEONTES\n",
       "Name: Player, Length: 111396, dtype: category\n",
       "Categories (934, object): [A Lord, A Patrician, A Player, AARON, ..., of BUCKINGHAM, of King Henry VI, of Prince Edward, of young Princes]"
      ]
     },
     "execution_count": 4,
     "metadata": {},
     "output_type": "execute_result"
    }
   ],
   "source": [
    "data['Player'] = data['Player'].astype('category') # check how many different player name\n",
    "data['Player']"
   ]
  },
  {
   "cell_type": "code",
   "execution_count": 5,
   "metadata": {},
   "outputs": [
    {
     "data": {
      "text/html": [
       "<div>\n",
       "<style scoped>\n",
       "    .dataframe tbody tr th:only-of-type {\n",
       "        vertical-align: middle;\n",
       "    }\n",
       "\n",
       "    .dataframe tbody tr th {\n",
       "        vertical-align: top;\n",
       "    }\n",
       "\n",
       "    .dataframe thead th {\n",
       "        text-align: right;\n",
       "    }\n",
       "</style>\n",
       "<table border=\"1\" class=\"dataframe\">\n",
       "  <thead>\n",
       "    <tr style=\"text-align: right;\">\n",
       "      <th></th>\n",
       "      <th>Dataline</th>\n",
       "      <th>Play</th>\n",
       "      <th>PlayerLinenumber</th>\n",
       "      <th>ActSceneLine</th>\n",
       "      <th>Player</th>\n",
       "      <th>PlayerLine</th>\n",
       "    </tr>\n",
       "  </thead>\n",
       "  <tbody>\n",
       "    <tr>\n",
       "      <td>3</td>\n",
       "      <td>4</td>\n",
       "      <td>10</td>\n",
       "      <td>1.0</td>\n",
       "      <td>1.1.1</td>\n",
       "      <td>458</td>\n",
       "      <td>So shaken as we are, so wan with care,</td>\n",
       "    </tr>\n",
       "    <tr>\n",
       "      <td>4</td>\n",
       "      <td>5</td>\n",
       "      <td>10</td>\n",
       "      <td>1.0</td>\n",
       "      <td>1.1.2</td>\n",
       "      <td>458</td>\n",
       "      <td>Find we a time for frighted peace to pant,</td>\n",
       "    </tr>\n",
       "    <tr>\n",
       "      <td>5</td>\n",
       "      <td>6</td>\n",
       "      <td>10</td>\n",
       "      <td>1.0</td>\n",
       "      <td>1.1.3</td>\n",
       "      <td>458</td>\n",
       "      <td>And breathe short-winded accents of new broils</td>\n",
       "    </tr>\n",
       "    <tr>\n",
       "      <td>6</td>\n",
       "      <td>7</td>\n",
       "      <td>10</td>\n",
       "      <td>1.0</td>\n",
       "      <td>1.1.4</td>\n",
       "      <td>458</td>\n",
       "      <td>To be commenced in strands afar remote.</td>\n",
       "    </tr>\n",
       "    <tr>\n",
       "      <td>7</td>\n",
       "      <td>8</td>\n",
       "      <td>10</td>\n",
       "      <td>1.0</td>\n",
       "      <td>1.1.5</td>\n",
       "      <td>458</td>\n",
       "      <td>No more the thirsty entrance of this soil</td>\n",
       "    </tr>\n",
       "    <tr>\n",
       "      <td>...</td>\n",
       "      <td>...</td>\n",
       "      <td>...</td>\n",
       "      <td>...</td>\n",
       "      <td>...</td>\n",
       "      <td>...</td>\n",
       "      <td>...</td>\n",
       "    </tr>\n",
       "    <tr>\n",
       "      <td>111390</td>\n",
       "      <td>111391</td>\n",
       "      <td>3</td>\n",
       "      <td>38.0</td>\n",
       "      <td>5.3.179</td>\n",
       "      <td>495</td>\n",
       "      <td>Is troth-plight to your daughter. Good Paulina,</td>\n",
       "    </tr>\n",
       "    <tr>\n",
       "      <td>111391</td>\n",
       "      <td>111392</td>\n",
       "      <td>3</td>\n",
       "      <td>38.0</td>\n",
       "      <td>5.3.180</td>\n",
       "      <td>495</td>\n",
       "      <td>Lead us from hence, where we may leisurely</td>\n",
       "    </tr>\n",
       "    <tr>\n",
       "      <td>111392</td>\n",
       "      <td>111393</td>\n",
       "      <td>3</td>\n",
       "      <td>38.0</td>\n",
       "      <td>5.3.181</td>\n",
       "      <td>495</td>\n",
       "      <td>Each one demand an answer to his part</td>\n",
       "    </tr>\n",
       "    <tr>\n",
       "      <td>111393</td>\n",
       "      <td>111394</td>\n",
       "      <td>3</td>\n",
       "      <td>38.0</td>\n",
       "      <td>5.3.182</td>\n",
       "      <td>495</td>\n",
       "      <td>Perform'd in this wide gap of time since first</td>\n",
       "    </tr>\n",
       "    <tr>\n",
       "      <td>111394</td>\n",
       "      <td>111395</td>\n",
       "      <td>3</td>\n",
       "      <td>38.0</td>\n",
       "      <td>5.3.183</td>\n",
       "      <td>495</td>\n",
       "      <td>We were dissever'd: hastily lead away.</td>\n",
       "    </tr>\n",
       "  </tbody>\n",
       "</table>\n",
       "<p>105153 rows × 6 columns</p>\n",
       "</div>"
      ],
      "text/plain": [
       "        Dataline  Play  PlayerLinenumber ActSceneLine  Player  \\\n",
       "3              4    10               1.0        1.1.1     458   \n",
       "4              5    10               1.0        1.1.2     458   \n",
       "5              6    10               1.0        1.1.3     458   \n",
       "6              7    10               1.0        1.1.4     458   \n",
       "7              8    10               1.0        1.1.5     458   \n",
       "...          ...   ...               ...          ...     ...   \n",
       "111390    111391     3              38.0      5.3.179     495   \n",
       "111391    111392     3              38.0      5.3.180     495   \n",
       "111392    111393     3              38.0      5.3.181     495   \n",
       "111393    111394     3              38.0      5.3.182     495   \n",
       "111394    111395     3              38.0      5.3.183     495   \n",
       "\n",
       "                                             PlayerLine  \n",
       "3                So shaken as we are, so wan with care,  \n",
       "4            Find we a time for frighted peace to pant,  \n",
       "5        And breathe short-winded accents of new broils  \n",
       "6               To be commenced in strands afar remote.  \n",
       "7             No more the thirsty entrance of this soil  \n",
       "...                                                 ...  \n",
       "111390  Is troth-plight to your daughter. Good Paulina,  \n",
       "111391       Lead us from hence, where we may leisurely  \n",
       "111392            Each one demand an answer to his part  \n",
       "111393   Perform'd in this wide gap of time since first  \n",
       "111394           We were dissever'd: hastily lead away.  \n",
       "\n",
       "[105153 rows x 6 columns]"
      ]
     },
     "execution_count": 5,
     "metadata": {},
     "output_type": "execute_result"
    }
   ],
   "source": [
    "data['Player'] = data['Player'].cat.rename_categories(list(range(1,935))).astype('int')\n",
    "data = data.dropna() # drop all Nan value\n",
    "data"
   ]
  },
  {
   "cell_type": "markdown",
   "metadata": {},
   "source": [
    "Since the feature ActSceneLine is in string and it can be used for the classification, so to make it easier to use, I split it into three columns: Act, Scene, and Line, these three columns are in int type. "
   ]
  },
  {
   "cell_type": "code",
   "execution_count": 6,
   "metadata": {},
   "outputs": [],
   "source": [
    "splitASL = data['ActSceneLine'].astype('str').str.split(pat='.',expand=True)"
   ]
  },
  {
   "cell_type": "code",
   "execution_count": 7,
   "metadata": {},
   "outputs": [
    {
     "data": {
      "text/html": [
       "<div>\n",
       "<style scoped>\n",
       "    .dataframe tbody tr th:only-of-type {\n",
       "        vertical-align: middle;\n",
       "    }\n",
       "\n",
       "    .dataframe tbody tr th {\n",
       "        vertical-align: top;\n",
       "    }\n",
       "\n",
       "    .dataframe thead th {\n",
       "        text-align: right;\n",
       "    }\n",
       "</style>\n",
       "<table border=\"1\" class=\"dataframe\">\n",
       "  <thead>\n",
       "    <tr style=\"text-align: right;\">\n",
       "      <th></th>\n",
       "      <th>Act</th>\n",
       "      <th>Scene</th>\n",
       "      <th>Line</th>\n",
       "    </tr>\n",
       "  </thead>\n",
       "  <tbody>\n",
       "    <tr>\n",
       "      <td>3</td>\n",
       "      <td>1</td>\n",
       "      <td>1</td>\n",
       "      <td>1</td>\n",
       "    </tr>\n",
       "    <tr>\n",
       "      <td>4</td>\n",
       "      <td>1</td>\n",
       "      <td>1</td>\n",
       "      <td>2</td>\n",
       "    </tr>\n",
       "    <tr>\n",
       "      <td>5</td>\n",
       "      <td>1</td>\n",
       "      <td>1</td>\n",
       "      <td>3</td>\n",
       "    </tr>\n",
       "    <tr>\n",
       "      <td>6</td>\n",
       "      <td>1</td>\n",
       "      <td>1</td>\n",
       "      <td>4</td>\n",
       "    </tr>\n",
       "    <tr>\n",
       "      <td>7</td>\n",
       "      <td>1</td>\n",
       "      <td>1</td>\n",
       "      <td>5</td>\n",
       "    </tr>\n",
       "    <tr>\n",
       "      <td>...</td>\n",
       "      <td>...</td>\n",
       "      <td>...</td>\n",
       "      <td>...</td>\n",
       "    </tr>\n",
       "    <tr>\n",
       "      <td>111390</td>\n",
       "      <td>5</td>\n",
       "      <td>3</td>\n",
       "      <td>179</td>\n",
       "    </tr>\n",
       "    <tr>\n",
       "      <td>111391</td>\n",
       "      <td>5</td>\n",
       "      <td>3</td>\n",
       "      <td>180</td>\n",
       "    </tr>\n",
       "    <tr>\n",
       "      <td>111392</td>\n",
       "      <td>5</td>\n",
       "      <td>3</td>\n",
       "      <td>181</td>\n",
       "    </tr>\n",
       "    <tr>\n",
       "      <td>111393</td>\n",
       "      <td>5</td>\n",
       "      <td>3</td>\n",
       "      <td>182</td>\n",
       "    </tr>\n",
       "    <tr>\n",
       "      <td>111394</td>\n",
       "      <td>5</td>\n",
       "      <td>3</td>\n",
       "      <td>183</td>\n",
       "    </tr>\n",
       "  </tbody>\n",
       "</table>\n",
       "<p>105153 rows × 3 columns</p>\n",
       "</div>"
      ],
      "text/plain": [
       "       Act Scene Line\n",
       "3        1     1    1\n",
       "4        1     1    2\n",
       "5        1     1    3\n",
       "6        1     1    4\n",
       "7        1     1    5\n",
       "...     ..   ...  ...\n",
       "111390   5     3  179\n",
       "111391   5     3  180\n",
       "111392   5     3  181\n",
       "111393   5     3  182\n",
       "111394   5     3  183\n",
       "\n",
       "[105153 rows x 3 columns]"
      ]
     },
     "execution_count": 7,
     "metadata": {},
     "output_type": "execute_result"
    }
   ],
   "source": [
    "splitASL = splitASL.rename(columns={0:'Act',1:'Scene',2:'Line'})\n",
    "splitASL"
   ]
  },
  {
   "cell_type": "code",
   "execution_count": 8,
   "metadata": {},
   "outputs": [],
   "source": [
    "data = pd.concat([data, splitASL], axis=1, sort=False)"
   ]
  },
  {
   "cell_type": "markdown",
   "metadata": {},
   "source": [
    "Then I removed some unused features. I was tried to explore the column \"PlayerLine\" to get more features for classification, then I realized that it will make much more work to count the words, or some other steps, so I decide to not use this column.  "
   ]
  },
  {
   "cell_type": "code",
   "execution_count": 9,
   "metadata": {},
   "outputs": [
    {
     "data": {
      "text/html": [
       "<div>\n",
       "<style scoped>\n",
       "    .dataframe tbody tr th:only-of-type {\n",
       "        vertical-align: middle;\n",
       "    }\n",
       "\n",
       "    .dataframe tbody tr th {\n",
       "        vertical-align: top;\n",
       "    }\n",
       "\n",
       "    .dataframe thead th {\n",
       "        text-align: right;\n",
       "    }\n",
       "</style>\n",
       "<table border=\"1\" class=\"dataframe\">\n",
       "  <thead>\n",
       "    <tr style=\"text-align: right;\">\n",
       "      <th></th>\n",
       "      <th>Play</th>\n",
       "      <th>PlayerLinenumber</th>\n",
       "      <th>Player</th>\n",
       "      <th>Act</th>\n",
       "      <th>Scene</th>\n",
       "      <th>Line</th>\n",
       "    </tr>\n",
       "  </thead>\n",
       "  <tbody>\n",
       "    <tr>\n",
       "      <td>3</td>\n",
       "      <td>10</td>\n",
       "      <td>1.0</td>\n",
       "      <td>458</td>\n",
       "      <td>1</td>\n",
       "      <td>1</td>\n",
       "      <td>1</td>\n",
       "    </tr>\n",
       "    <tr>\n",
       "      <td>4</td>\n",
       "      <td>10</td>\n",
       "      <td>1.0</td>\n",
       "      <td>458</td>\n",
       "      <td>1</td>\n",
       "      <td>1</td>\n",
       "      <td>2</td>\n",
       "    </tr>\n",
       "    <tr>\n",
       "      <td>5</td>\n",
       "      <td>10</td>\n",
       "      <td>1.0</td>\n",
       "      <td>458</td>\n",
       "      <td>1</td>\n",
       "      <td>1</td>\n",
       "      <td>3</td>\n",
       "    </tr>\n",
       "    <tr>\n",
       "      <td>6</td>\n",
       "      <td>10</td>\n",
       "      <td>1.0</td>\n",
       "      <td>458</td>\n",
       "      <td>1</td>\n",
       "      <td>1</td>\n",
       "      <td>4</td>\n",
       "    </tr>\n",
       "    <tr>\n",
       "      <td>7</td>\n",
       "      <td>10</td>\n",
       "      <td>1.0</td>\n",
       "      <td>458</td>\n",
       "      <td>1</td>\n",
       "      <td>1</td>\n",
       "      <td>5</td>\n",
       "    </tr>\n",
       "    <tr>\n",
       "      <td>...</td>\n",
       "      <td>...</td>\n",
       "      <td>...</td>\n",
       "      <td>...</td>\n",
       "      <td>...</td>\n",
       "      <td>...</td>\n",
       "      <td>...</td>\n",
       "    </tr>\n",
       "    <tr>\n",
       "      <td>111390</td>\n",
       "      <td>3</td>\n",
       "      <td>38.0</td>\n",
       "      <td>495</td>\n",
       "      <td>5</td>\n",
       "      <td>3</td>\n",
       "      <td>179</td>\n",
       "    </tr>\n",
       "    <tr>\n",
       "      <td>111391</td>\n",
       "      <td>3</td>\n",
       "      <td>38.0</td>\n",
       "      <td>495</td>\n",
       "      <td>5</td>\n",
       "      <td>3</td>\n",
       "      <td>180</td>\n",
       "    </tr>\n",
       "    <tr>\n",
       "      <td>111392</td>\n",
       "      <td>3</td>\n",
       "      <td>38.0</td>\n",
       "      <td>495</td>\n",
       "      <td>5</td>\n",
       "      <td>3</td>\n",
       "      <td>181</td>\n",
       "    </tr>\n",
       "    <tr>\n",
       "      <td>111393</td>\n",
       "      <td>3</td>\n",
       "      <td>38.0</td>\n",
       "      <td>495</td>\n",
       "      <td>5</td>\n",
       "      <td>3</td>\n",
       "      <td>182</td>\n",
       "    </tr>\n",
       "    <tr>\n",
       "      <td>111394</td>\n",
       "      <td>3</td>\n",
       "      <td>38.0</td>\n",
       "      <td>495</td>\n",
       "      <td>5</td>\n",
       "      <td>3</td>\n",
       "      <td>183</td>\n",
       "    </tr>\n",
       "  </tbody>\n",
       "</table>\n",
       "<p>105153 rows × 6 columns</p>\n",
       "</div>"
      ],
      "text/plain": [
       "        Play  PlayerLinenumber  Player Act Scene Line\n",
       "3         10               1.0     458   1     1    1\n",
       "4         10               1.0     458   1     1    2\n",
       "5         10               1.0     458   1     1    3\n",
       "6         10               1.0     458   1     1    4\n",
       "7         10               1.0     458   1     1    5\n",
       "...      ...               ...     ...  ..   ...  ...\n",
       "111390     3              38.0     495   5     3  179\n",
       "111391     3              38.0     495   5     3  180\n",
       "111392     3              38.0     495   5     3  181\n",
       "111393     3              38.0     495   5     3  182\n",
       "111394     3              38.0     495   5     3  183\n",
       "\n",
       "[105153 rows x 6 columns]"
      ]
     },
     "execution_count": 9,
     "metadata": {},
     "output_type": "execute_result"
    }
   ],
   "source": [
    "# remove some unused features. \n",
    "data = data.drop(['Dataline', 'ActSceneLine', 'PlayerLine'], axis=1)\n",
    "data.to_csv('Data/new_datasets.csv', index=False)\n",
    "data"
   ]
  },
  {
   "cell_type": "markdown",
   "metadata": {},
   "source": [
    "I then split the data into training data and testing data with seperate sample and labels, where label is player, and sample is all other features. "
   ]
  },
  {
   "cell_type": "code",
   "execution_count": 10,
   "metadata": {},
   "outputs": [],
   "source": [
    "from sklearn.model_selection import train_test_split\n",
    "label = data['Player']\n",
    "sample = data.drop('Player',axis=1)\n",
    "sample_train, sample_test, label_train, label_test = train_test_split(sample, label, test_size=0.1)"
   ]
  },
  {
   "cell_type": "markdown",
   "metadata": {},
   "source": [
    "I first tried with Gaussian Naive Bayes"
   ]
  },
  {
   "cell_type": "code",
   "execution_count": 11,
   "metadata": {},
   "outputs": [
    {
     "data": {
      "text/plain": [
       "0.2222327881323697"
      ]
     },
     "execution_count": 11,
     "metadata": {},
     "output_type": "execute_result"
    }
   ],
   "source": [
    "from sklearn.naive_bayes import GaussianNB\n",
    "\n",
    "model_1 = GaussianNB()\n",
    "model_1.fit(sample_train,label_train)\n",
    "label_predict_1 = model_1.predict(sample_test)\n",
    "accuracy_1 = model_1.score(sample_test,label_test)\n",
    "accuracy_1"
   ]
  },
  {
   "cell_type": "markdown",
   "metadata": {},
   "source": [
    "As the result, the Gaussian Naive Bayes runs very fast but it gives a very bad prediction with low accuracy, so then I tried with Random Forest Classifier"
   ]
  },
  {
   "cell_type": "code",
   "execution_count": 12,
   "metadata": {},
   "outputs": [
    {
     "data": {
      "text/plain": [
       "0.8132369722327881"
      ]
     },
     "execution_count": 12,
     "metadata": {},
     "output_type": "execute_result"
    }
   ],
   "source": [
    "from sklearn.ensemble import RandomForestClassifier\n",
    "\n",
    "model_2 = RandomForestClassifier(n_estimators=10)\n",
    "model_2.fit(sample_train,label_train)\n",
    "label_predict_2 = model_2.predict(sample_test)\n",
    "accuracy_2 = model_2.score(sample_test,label_test)\n",
    "accuracy_2"
   ]
  },
  {
   "cell_type": "markdown",
   "metadata": {},
   "source": [
    "As the result shows that this classifier is as good as 80% accurcy, so it is much better than Naive Bayes,\n",
    "I also tried with Decision Tree. "
   ]
  },
  {
   "cell_type": "code",
   "execution_count": 13,
   "metadata": {},
   "outputs": [
    {
     "data": {
      "text/plain": [
       "0.7937428680106504"
      ]
     },
     "execution_count": 13,
     "metadata": {},
     "output_type": "execute_result"
    }
   ],
   "source": [
    "from sklearn.tree import DecisionTreeClassifier\n",
    "\n",
    "model_3 = DecisionTreeClassifier()\n",
    "model_3.fit(sample_train,label_train)\n",
    "label_predict_3 = model_3.predict(sample_test)\n",
    "accuracy_3 = model_3.score(sample_test,label_test)\n",
    "accuracy_3"
   ]
  },
  {
   "cell_type": "markdown",
   "metadata": {},
   "source": [
    "The result of Decision Tree is also close to 80% accuracy, but not as good as Random Forest, I then tried to change some features and datasets, to see if I can get better result by using Random Forest"
   ]
  },
  {
   "cell_type": "markdown",
   "metadata": {},
   "source": [
    "My previous test are using 10% test sample and 90% training sample, that may effect the prediction result since testing sample is small, so I tried with 20% testing sample"
   ]
  },
  {
   "cell_type": "code",
   "execution_count": 14,
   "metadata": {},
   "outputs": [],
   "source": [
    "sample_train_2, sample_test_2, label_train_2, label_test_2 = train_test_split(sample, label, test_size=0.2)"
   ]
  },
  {
   "cell_type": "code",
   "execution_count": 15,
   "metadata": {},
   "outputs": [
    {
     "data": {
      "text/plain": [
       "0.80029480290999"
      ]
     },
     "execution_count": 15,
     "metadata": {},
     "output_type": "execute_result"
    }
   ],
   "source": [
    "model_4 = RandomForestClassifier(n_estimators=10)\n",
    "model_4.fit(sample_train_2,label_train_2)\n",
    "label_predict_4 = model_4.predict(sample_test_2)\n",
    "accuracy_4 = model_4.score(sample_test_2,label_test_2)\n",
    "accuracy_4"
   ]
  },
  {
   "cell_type": "markdown",
   "metadata": {},
   "source": [
    "The result with more testing data is decreased little bit from 10% testing data, then I tried to make the randome forest model with more randome trees. "
   ]
  },
  {
   "cell_type": "code",
   "execution_count": 16,
   "metadata": {},
   "outputs": [
    {
     "data": {
      "text/plain": [
       "0.8252187143400532"
      ]
     },
     "execution_count": 16,
     "metadata": {},
     "output_type": "execute_result"
    }
   ],
   "source": [
    "model_5 = RandomForestClassifier(n_estimators=20)\n",
    "model_5.fit(sample_train,label_train)\n",
    "label_predict_5 = model_5.predict(sample_test)\n",
    "accuracy_5 = model_5.score(sample_test,label_test)\n",
    "accuracy_5"
   ]
  },
  {
   "cell_type": "markdown",
   "metadata": {},
   "source": [
    "The model with more randome trees is taking longer time to prediction, but it comes with better accuracy. So that means if the model is more complex, with large training datasets, we may have better results. "
   ]
  },
  {
   "cell_type": "markdown",
   "metadata": {},
   "source": [
    "I then want see which features will effect the prediction result, so I trained some datasets with less features."
   ]
  },
  {
   "cell_type": "code",
   "execution_count": 17,
   "metadata": {},
   "outputs": [
    {
     "data": {
      "text/plain": [
       "0.7170026626093572"
      ]
     },
     "execution_count": 17,
     "metadata": {},
     "output_type": "execute_result"
    }
   ],
   "source": [
    "sample_less1 = data.drop(['Player','PlayerLinenumber'],axis=1)\n",
    "sample_train_less1, sample_test_less1, label_train_less1, label_test_less1 = train_test_split(sample_less1, label, test_size=0.1)\n",
    "model_6 = RandomForestClassifier(n_estimators=10)\n",
    "model_6.fit(sample_train_less1,label_train_less1)\n",
    "label_predict_6 = model_6.predict(sample_test_less1)\n",
    "accuracy_6 = model_6.score(sample_test_less1,label_test_less1)\n",
    "accuracy_6"
   ]
  },
  {
   "cell_type": "code",
   "execution_count": 18,
   "metadata": {},
   "outputs": [
    {
     "data": {
      "text/plain": [
       "0.7339292506656523"
      ]
     },
     "execution_count": 18,
     "metadata": {},
     "output_type": "execute_result"
    }
   ],
   "source": [
    "sample_less2 = data.drop(['Player','Act'],axis=1)\n",
    "sample_train_less2, sample_test_less2, label_train_less2, label_test_less2 = train_test_split(sample_less2, label, test_size=0.1)\n",
    "model_7 = RandomForestClassifier(n_estimators=10)\n",
    "model_7.fit(sample_train_less2,label_train_less2)\n",
    "label_predict_7 = model_7.predict(sample_test_less2)\n",
    "accuracy_7 = model_7.score(sample_test_less2,label_test_less2)\n",
    "accuracy_7"
   ]
  },
  {
   "cell_type": "code",
   "execution_count": 19,
   "metadata": {},
   "outputs": [
    {
     "data": {
      "text/plain": [
       "0.7303157093952073"
      ]
     },
     "execution_count": 19,
     "metadata": {},
     "output_type": "execute_result"
    }
   ],
   "source": [
    "sample_less3 = data.drop(['Player','Scene'],axis=1)\n",
    "sample_train_less3, sample_test_less3, label_train_less3, label_test_less3 = train_test_split(sample_less3, label, test_size=0.1)\n",
    "model_8 = RandomForestClassifier(n_estimators=10)\n",
    "model_8.fit(sample_train_less3,label_train_less3)\n",
    "label_predict_8 = model_8.predict(sample_test_less3)\n",
    "accuracy_8 = model_8.score(sample_test_less3,label_test_less3)\n",
    "accuracy_8"
   ]
  },
  {
   "cell_type": "code",
   "execution_count": 20,
   "metadata": {},
   "outputs": [
    {
     "data": {
      "text/plain": [
       "0.8436667934575884"
      ]
     },
     "execution_count": 20,
     "metadata": {},
     "output_type": "execute_result"
    }
   ],
   "source": [
    "sample_less4 = data.drop(['Player','Line'],axis=1)\n",
    "sample_train_less4, sample_test_less4, label_train_less4, label_test_less4 = train_test_split(sample_less4, label, test_size=0.1)\n",
    "model_9 = RandomForestClassifier(n_estimators=10)\n",
    "model_9.fit(sample_train_less4,label_train_less4)\n",
    "label_predict_9 = model_9.predict(sample_test_less4)\n",
    "accuracy_9 = model_9.score(sample_test_less4,label_test_less4)\n",
    "accuracy_9"
   ]
  },
  {
   "cell_type": "markdown",
   "metadata": {},
   "source": [
    "The result is very interesting that the model will have higher prediction accuracy without the feature 'Line', so that the Line feature is the fact that can effect the model prediction. "
   ]
  },
  {
   "cell_type": "code",
   "execution_count": null,
   "metadata": {},
   "outputs": [],
   "source": []
  }
 ],
 "metadata": {
  "kernelspec": {
   "display_name": "Python 3",
   "language": "python",
   "name": "python3"
  },
  "language_info": {
   "codemirror_mode": {
    "name": "ipython",
    "version": 3
   },
   "file_extension": ".py",
   "mimetype": "text/x-python",
   "name": "python",
   "nbconvert_exporter": "python",
   "pygments_lexer": "ipython3",
   "version": "3.7.4"
  }
 },
 "nbformat": 4,
 "nbformat_minor": 2
}
